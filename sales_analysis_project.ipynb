{
 "cells": [
  {
   "cell_type": "code",
   "execution_count": 102,
   "id": "6924c67f-c703-4f4b-9d40-d07a6dd05b68",
   "metadata": {},
   "outputs": [],
   "source": [
    "import pandas as pd\n",
    "import mysql.connector\n",
    "import os\n",
    "import matplotlib.pyplot as plt\n",
    "import seaborn as sns\n",
    "import mysql.connector\n",
    "import numpy as np"
   ]
  },
  {
   "cell_type": "code",
   "execution_count": 1,
   "id": "da471a77-4031-48d4-9b48-f42e42c17a00",
   "metadata": {},
   "outputs": [
    {
     "ename": "NameError",
     "evalue": "name 'mysql' is not defined",
     "output_type": "error",
     "traceback": [
      "\u001b[1;31m---------------------------------------------------------------------------\u001b[0m",
      "\u001b[1;31mNameError\u001b[0m                                 Traceback (most recent call last)",
      "Cell \u001b[1;32mIn[1], line 14\u001b[0m\n\u001b[0;32m      3\u001b[0m csv_files \u001b[38;5;241m=\u001b[39m [\n\u001b[0;32m      4\u001b[0m     (\u001b[38;5;124m'\u001b[39m\u001b[38;5;124mcustomers.csv\u001b[39m\u001b[38;5;124m'\u001b[39m, \u001b[38;5;124m'\u001b[39m\u001b[38;5;124mcustomers\u001b[39m\u001b[38;5;124m'\u001b[39m),\n\u001b[0;32m      5\u001b[0m     (\u001b[38;5;124m'\u001b[39m\u001b[38;5;124morders.csv\u001b[39m\u001b[38;5;124m'\u001b[39m, \u001b[38;5;124m'\u001b[39m\u001b[38;5;124morders\u001b[39m\u001b[38;5;124m'\u001b[39m),\n\u001b[1;32m   (...)\u001b[0m\n\u001b[0;32m     10\u001b[0m     (\u001b[38;5;124m'\u001b[39m\u001b[38;5;124morder_items.csv\u001b[39m\u001b[38;5;124m'\u001b[39m, \u001b[38;5;124m'\u001b[39m\u001b[38;5;124morder_items\u001b[39m\u001b[38;5;124m'\u001b[39m)\n\u001b[0;32m     11\u001b[0m ]\n\u001b[0;32m     13\u001b[0m \u001b[38;5;66;03m# Connect to the MySQL database\u001b[39;00m\n\u001b[1;32m---> 14\u001b[0m conn \u001b[38;5;241m=\u001b[39m \u001b[43mmysql\u001b[49m\u001b[38;5;241m.\u001b[39mconnector\u001b[38;5;241m.\u001b[39mconnect(\n\u001b[0;32m     15\u001b[0m     host\u001b[38;5;241m=\u001b[39m\u001b[38;5;124m'\u001b[39m\u001b[38;5;124mlocalhost\u001b[39m\u001b[38;5;124m'\u001b[39m,\n\u001b[0;32m     16\u001b[0m     user\u001b[38;5;241m=\u001b[39m\u001b[38;5;124m'\u001b[39m\u001b[38;5;124mroot\u001b[39m\u001b[38;5;124m'\u001b[39m,\n\u001b[0;32m     17\u001b[0m     password\u001b[38;5;241m=\u001b[39m\u001b[38;5;124m'\u001b[39m\u001b[38;5;124mVijay@986744\u001b[39m\u001b[38;5;124m'\u001b[39m,\n\u001b[0;32m     18\u001b[0m     database\u001b[38;5;241m=\u001b[39m\u001b[38;5;124m'\u001b[39m\u001b[38;5;124mecommerce\u001b[39m\u001b[38;5;124m'\u001b[39m\n\u001b[0;32m     19\u001b[0m )\n\u001b[0;32m     20\u001b[0m cursor \u001b[38;5;241m=\u001b[39m conn\u001b[38;5;241m.\u001b[39mcursor()\n\u001b[0;32m     22\u001b[0m \u001b[38;5;66;03m# Folder path containing the CSV files\u001b[39;00m\n",
      "\u001b[1;31mNameError\u001b[0m: name 'mysql' is not defined"
     ]
    }
   ],
   "source": [
    "# Uploading downloaded CSV files to the Database in MySQL.\n",
    "\n",
    "# List of CSV files and their corresponding table names\n",
    "csv_files = [\n",
    "    ('customers.csv', 'customers'),\n",
    "    ('orders.csv', 'orders'),\n",
    "    ('sellers.csv', 'sellers'),\n",
    "    ('products.csv', 'products'),\n",
    "    ('geolocation.csv', 'geolocation'),\n",
    "    ('payments.csv', 'payments'),\n",
    "    ('order_items.csv', 'order_items')\n",
    "]\n",
    "\n",
    "# Connect to the MySQL database\n",
    "conn = mysql.connector.connect(\n",
    "    host='localhost',\n",
    "    user='root',\n",
    "    password='1234',\n",
    "    database='ecommerce'\n",
    ")\n",
    "cursor = conn.cursor()\n",
    "\n",
    "# Folder path containing the CSV files\n",
    "folder_path = 'C:/Users/admin/Desktop/ecommorce'\n",
    "\n",
    "def get_sql_type(dtype):\n",
    "    if pd.api.types.is_integer_dtype(dtype):\n",
    "        return 'INT'\n",
    "    elif pd.api.types.is_float_dtype(dtype):\n",
    "        return 'FLOAT'\n",
    "    elif pd.api.types.is_bool_dtype(dtype):\n",
    "        return 'BOOLEAN'\n",
    "    elif pd.api.types.is_datetime64_any_dtype(dtype):\n",
    "        return 'DATETIME'\n",
    "    else:\n",
    "        return 'TEXT'\n",
    "\n",
    "for csv_file, table_name in csv_files:\n",
    "    file_path = os.path.join(folder_path, csv_file)\n",
    "    \n",
    "    # Read the CSV file into a pandas DataFrame\n",
    "    df = pd.read_csv(file_path)\n",
    "    \n",
    "    # Replace NaN with None to handle SQL NULL\n",
    "    df = df.where(pd.notnull(df), None)\n",
    "    \n",
    "    # Debugging: Check for NaN values\n",
    "    print(f\"Processing {csv_file}\")\n",
    "    print(f\"NaN values before replacement:\\n{df.isnull().sum()}\\n\")\n",
    "\n",
    "    # Clean column names\n",
    "    df.columns = [col.replace(' ', '_').replace('-', '_').replace('.', '_') for col in df.columns]\n",
    "\n",
    "    # Generate the CREATE TABLE statement with appropriate data types\n",
    "    columns = ', '.join([f'`{col}` {get_sql_type(df[col].dtype)}' for col in df.columns])\n",
    "    create_table_query = f'CREATE TABLE IF NOT EXISTS `{table_name}` ({columns})'\n",
    "    cursor.execute(create_table_query)\n",
    "\n",
    "    # Insert DataFrame data into the MySQL table\n",
    "    for _, row in df.iterrows():\n",
    "        # Convert row to tuple and handle NaN/None explicitly\n",
    "        values = tuple(None if pd.isna(x) else x for x in row)\n",
    "        sql = f\"INSERT INTO `{table_name}` ({', '.join(['`' + col + '`' for col in df.columns])}) VALUES ({', '.join(['%s'] * len(row))})\"\n",
    "        cursor.execute(sql, values)\n",
    "\n",
    "    conn.commit()\n",
    "conn.close()"
   ]
  },
  {
   "cell_type": "code",
   "execution_count": 64,
   "id": "92a24d97-a50b-466e-82bd-eae2195e339a",
   "metadata": {},
   "outputs": [],
   "source": [
    "db = mysql.connector.connect(\n",
    "    host= 'localhost',\n",
    "    username= 'root',\n",
    "    password= 'Vijay@986744',\n",
    "    database= 'ecommerce'\n",
    "    )\n",
    "\n",
    "cur = db.cursor()"
   ]
  },
  {
   "cell_type": "code",
   "execution_count": null,
   "id": "a5c631b1-358a-4d31-86f1-8679d2ed4373",
   "metadata": {},
   "outputs": [],
   "source": []
  },
  {
   "cell_type": "code",
   "execution_count": 26,
   "id": "04241611-c0f0-410d-a180-84964a75d43f",
   "metadata": {},
   "outputs": [
    {
     "name": "stdout",
     "output_type": "stream",
     "text": [
      "           customer_city\n",
      "0                 franca\n",
      "1  sao bernardo do campo\n",
      "2              sao paulo\n",
      "3        mogi das cruzes\n",
      "4               campinas\n",
      "5         jaragua do sul\n",
      "6                timoteo\n",
      "7               curitiba\n",
      "8         belo horizonte\n",
      "9          montes claros\n",
      "            customer_city\n",
      "4109             balbinos\n",
      "4110         serra bonita\n",
      "4111         venda branca\n",
      "4112          sanga puita\n",
      "4113              queiroz\n",
      "4114               siriji\n",
      "4115  natividade da serra\n",
      "4116         monte bonito\n",
      "4117           sao rafael\n",
      "4118    eugenio de castro\n"
     ]
    }
   ],
   "source": [
    "# List all unique cities where customers are located.\n",
    "\n",
    "query = '''select distinct customer_city from customers'''\n",
    "cur.execute(query)\n",
    "data = cur.fetchall()\n",
    "\n",
    "columns_name = [desc[0] for desc in cur.description]\n",
    "\n",
    "df = pd.DataFrame(data, columns=columns_name)\n",
    "\n",
    "print(df.head(10))\n",
    "\n",
    "print(df.tail(10))"
   ]
  },
  {
   "cell_type": "code",
   "execution_count": null,
   "id": "9edb01fe-9411-44d2-8b32-995035c2d1bf",
   "metadata": {},
   "outputs": [],
   "source": []
  },
  {
   "cell_type": "code",
   "execution_count": 30,
   "id": "56645cff-7222-471a-9195-f8229d97a505",
   "metadata": {},
   "outputs": [
    {
     "name": "stdout",
     "output_type": "stream",
     "text": [
      "Number of orders placed in 2017 : 90202\n"
     ]
    }
   ],
   "source": [
    "# Count the number of orders placed in 2017\n",
    "\n",
    "query = '''select * from orders'''\n",
    "\n",
    "cur.execute(query)\n",
    "\n",
    "order_data = cur.fetchall()\n",
    "\n",
    "columns_name = [desc[0] for desc in cur.description]\n",
    "\n",
    "df = pd.DataFrame(order_data, columns=columns_name)\n",
    "\n",
    "df['purchased_year'] = pd.to_datetime(df['order_purchase_timestamp']).dt.year\n",
    "\n",
    "orders_2017 = df[df['purchased_year'] == 2017]\n",
    "\n",
    "num_of_orders_2017 = orders_2017['order_id'].count()\n",
    "\n",
    "print(f\"Number of orders placed in 2017 : {num_of_orders_2017}\")\n"
   ]
  },
  {
   "cell_type": "code",
   "execution_count": 31,
   "id": "bf7062a4-d938-4d0b-a439-f5890c8c8c20",
   "metadata": {},
   "outputs": [
    {
     "name": "stdout",
     "output_type": "stream",
     "text": [
      "Total orders placed in 2017 are: 90202\n"
     ]
    }
   ],
   "source": [
    "query = '''select count(order_id) from orders where year(order_purchase_timestamp) = 2017'''\n",
    "cur.execute(query)\n",
    "data = cur.fetchall()\n",
    "print(f\"Total orders placed in 2017 are: {data[0][0]}\")"
   ]
  },
  {
   "cell_type": "code",
   "execution_count": null,
   "id": "20b26bcc-328c-4faa-a8e1-92aaec2d74ea",
   "metadata": {},
   "outputs": [],
   "source": []
  },
  {
   "cell_type": "code",
   "execution_count": 36,
   "id": "b70ddff8-0643-4e5b-8cc7-f1b14ad5818e",
   "metadata": {},
   "outputs": [
    {
     "name": "stdout",
     "output_type": "stream",
     "text": [
      "               category       sales\n",
      "0             perfumery   506738.66\n",
      "1  Furniture Decoration  1430176.39\n",
      "2             telephony   486882.05\n",
      "3        bed table bath  1712553.67\n",
      "4            automotive   852294.33\n",
      "                       category    sales\n",
      "69               cds music dvds  1199.43\n",
      "70                   La Cuisine  2913.53\n",
      "71  Fashion Children's Clothing   785.67\n",
      "72                     PC Gamer  2174.43\n",
      "73       insurance and services   324.51\n"
     ]
    }
   ],
   "source": [
    "# Find the total sales per category\n",
    "\n",
    "query = '''\n",
    "            select p.product_category as category, round(sum(pt.payment_value), 2) as sales\n",
    "            from products p \n",
    "            join order_items o on o.product_id = p.product_id\n",
    "            join payments pt on pt.order_id = o.order_id\n",
    "            group by category\n",
    "        '''\n",
    "\n",
    "cur.execute(query)\n",
    "\n",
    "category_sales = cur.fetchall()\n",
    "\n",
    "columns_name = [desc[0] for desc in cur.description]\n",
    "\n",
    "df = pd.DataFrame(category_sales, columns=columns_name)\n",
    "\n",
    "\n",
    "print(df.head())\n",
    "print(df.tail())"
   ]
  },
  {
   "cell_type": "code",
   "execution_count": null,
   "id": "6a16d43a-4852-40ac-9790-95c76c44dfc1",
   "metadata": {},
   "outputs": [],
   "source": []
  },
  {
   "cell_type": "code",
   "execution_count": 44,
   "id": "267ed5e4-cff7-48c6-a5c8-82904b8cbdf9",
   "metadata": {},
   "outputs": [
    {
     "data": {
      "text/html": [
       "<div>\n",
       "<style scoped>\n",
       "    .dataframe tbody tr th:only-of-type {\n",
       "        vertical-align: middle;\n",
       "    }\n",
       "\n",
       "    .dataframe tbody tr th {\n",
       "        vertical-align: top;\n",
       "    }\n",
       "\n",
       "    .dataframe thead th {\n",
       "        text-align: right;\n",
       "    }\n",
       "</style>\n",
       "<table border=\"1\" class=\"dataframe\">\n",
       "  <thead>\n",
       "    <tr style=\"text-align: right;\">\n",
       "      <th></th>\n",
       "      <th>installment_orders_percentage</th>\n",
       "    </tr>\n",
       "  </thead>\n",
       "  <tbody>\n",
       "    <tr>\n",
       "      <th>0</th>\n",
       "      <td>99.9981</td>\n",
       "    </tr>\n",
       "  </tbody>\n",
       "</table>\n",
       "</div>"
      ],
      "text/plain": [
       "  installment_orders_percentage\n",
       "0                       99.9981"
      ]
     },
     "execution_count": 44,
     "metadata": {},
     "output_type": "execute_result"
    }
   ],
   "source": [
    "# Calculate the percentage of orders that were paid in installments.\n",
    "\n",
    "\n",
    "query = '''\n",
    "            select sum(case when payment_installments >=1 then 1 else 0 end)/count(*)*100 as installment_orders_percentage\n",
    "            from payments\n",
    "        '''\n",
    "\n",
    "cur.execute(query)\n",
    "\n",
    "column_names = [desc[0] for desc in cur.description]\n",
    "\n",
    "installment_percentage = cur.fetchall()\n",
    "\n",
    "df = pd.DataFrame(installment_percentage, columns=column_names)\n",
    "df"
   ]
  },
  {
   "cell_type": "code",
   "execution_count": null,
   "id": "3a6e134d-0145-4beb-ad81-b352d91603a9",
   "metadata": {},
   "outputs": [],
   "source": []
  },
  {
   "cell_type": "code",
   "execution_count": 52,
   "id": "f8326cf1-b29d-4bd4-89e6-632b0db3315a",
   "metadata": {},
   "outputs": [
    {
     "name": "stdout",
     "output_type": "stream",
     "text": [
      "  customer_state  no_of_customers\n",
      "0             SP            83492\n",
      "4             RJ            25704\n",
      "2             MG            23270\n",
      "5             RS            10932\n",
      "3             PR            10090\n",
      "   customer_state  no_of_customers\n",
      "20             RO              506\n",
      "17             AM              296\n",
      "24             AC              162\n",
      "18             AP              136\n",
      "26             RR               92\n"
     ]
    },
    {
     "data": {
      "image/png": "[encoded data removed]",
      "text/plain": [
       "<Figure size 800x300 with 1 Axes>"
      ]
     },
     "metadata": {},
     "output_type": "display_data"
    }
   ],
   "source": [
    "# Count the number of customers from each state.\n",
    "\n",
    "query = '''\n",
    "            select customer_state, count(customer_unique_id) as no_of_customers\n",
    "            from customers\n",
    "            group by customer_state\n",
    "        '''\n",
    "\n",
    "cur.execute(query)\n",
    "\n",
    "customers_per_state = cur.fetchall()\n",
    "\n",
    "column_names = [desc[0] for desc in cur.description]\n",
    "\n",
    "df = pd.DataFrame(customers_per_state, columns=column_names)\n",
    "df = df.sort_values(by = 'no_of_customers', ascending = False)\n",
    "\n",
    "print(df.head())\n",
    "print(df.tail())\n",
    "\n",
    "plt.figure(figsize = (8,3))\n",
    "plt.bar(df['customer_state'], df['no_of_customers'])\n",
    "plt.xticks(rotation = 90)\n",
    "plt.show()"
   ]
  },
  {
   "cell_type": "code",
   "execution_count": null,
   "id": "61678614-47ae-4af7-8a3c-50d060061127",
   "metadata": {},
   "outputs": [],
   "source": []
  },
  {
   "cell_type": "code",
   "execution_count": 61,
   "id": "eb603684-c685-484d-a2d1-c46f43352058",
   "metadata": {},
   "outputs": [
    {
     "data": {
      "text/html": [
       "<div>\n",
       "<style scoped>\n",
       "    .dataframe tbody tr th:only-of-type {\n",
       "        vertical-align: middle;\n",
       "    }\n",
       "\n",
       "    .dataframe tbody tr th {\n",
       "        vertical-align: top;\n",
       "    }\n",
       "\n",
       "    .dataframe thead th {\n",
       "        text-align: right;\n",
       "    }\n",
       "</style>\n",
       "<table border=\"1\" class=\"dataframe\">\n",
       "  <thead>\n",
       "    <tr style=\"text-align: right;\">\n",
       "      <th></th>\n",
       "      <th>months_of_2018</th>\n",
       "      <th>no_of_orders</th>\n",
       "    </tr>\n",
       "  </thead>\n",
       "  <tbody>\n",
       "    <tr>\n",
       "      <th>5</th>\n",
       "      <td>1</td>\n",
       "      <td>14538</td>\n",
       "    </tr>\n",
       "    <tr>\n",
       "      <th>2</th>\n",
       "      <td>2</td>\n",
       "      <td>13456</td>\n",
       "    </tr>\n",
       "    <tr>\n",
       "      <th>4</th>\n",
       "      <td>3</td>\n",
       "      <td>14422</td>\n",
       "    </tr>\n",
       "    <tr>\n",
       "      <th>7</th>\n",
       "      <td>4</td>\n",
       "      <td>13878</td>\n",
       "    </tr>\n",
       "    <tr>\n",
       "      <th>6</th>\n",
       "      <td>5</td>\n",
       "      <td>13746</td>\n",
       "    </tr>\n",
       "    <tr>\n",
       "      <th>3</th>\n",
       "      <td>6</td>\n",
       "      <td>12334</td>\n",
       "    </tr>\n",
       "    <tr>\n",
       "      <th>0</th>\n",
       "      <td>7</td>\n",
       "      <td>12584</td>\n",
       "    </tr>\n",
       "    <tr>\n",
       "      <th>1</th>\n",
       "      <td>8</td>\n",
       "      <td>13024</td>\n",
       "    </tr>\n",
       "    <tr>\n",
       "      <th>8</th>\n",
       "      <td>9</td>\n",
       "      <td>32</td>\n",
       "    </tr>\n",
       "    <tr>\n",
       "      <th>9</th>\n",
       "      <td>10</td>\n",
       "      <td>8</td>\n",
       "    </tr>\n",
       "  </tbody>\n",
       "</table>\n",
       "</div>"
      ],
      "text/plain": [
       "   months_of_2018  no_of_orders\n",
       "5               1         14538\n",
       "2               2         13456\n",
       "4               3         14422\n",
       "7               4         13878\n",
       "6               5         13746\n",
       "3               6         12334\n",
       "0               7         12584\n",
       "1               8         13024\n",
       "8               9            32\n",
       "9              10             8"
      ]
     },
     "execution_count": 61,
     "metadata": {},
     "output_type": "execute_result"
    }
   ],
   "source": [
    "# Calculate the number of orders per month in 2018.\n",
    "\n",
    "\n",
    "query = '''\n",
    "            select month(order_purchase_timestamp) as months_of_2018, count(order_id) as no_of_orders\n",
    "            from orders\n",
    "            where year(order_purchase_timestamp) = 2018\n",
    "            group by months_of_2018\n",
    "        '''\n",
    "\n",
    "cur.execute(query)\n",
    "\n",
    "data = cur.fetchall()\n",
    "\n",
    "column_names = [desc[0] for desc in cur.description]\n",
    "\n",
    "df = pd.DataFrame(data, columns=column_names)\n",
    "df = df.sort_values(by = 'months_of_2018', ascending=True)\n",
    "df"
   ]
  },
  {
   "cell_type": "code",
   "execution_count": null,
   "id": "43bd0ac4-4419-431e-93ff-3eeb8971a7c0",
   "metadata": {},
   "outputs": [],
   "source": []
  },
  {
   "cell_type": "code",
   "execution_count": 74,
   "id": "450c5783-fcd6-416a-85df-62690c7bd37c",
   "metadata": {},
   "outputs": [
    {
     "name": "stdout",
     "output_type": "stream",
     "text": [
      "     customer_city avg_product_num\n",
      "0        sao paulo          1.1562\n",
      "1        urussanga          1.0000\n",
      "2           macapa          1.1481\n",
      "3         salvador          1.1405\n",
      "4  itaquaquecetuba          1.0526\n",
      "               customer_city avg_product_num\n",
      "4105      tabuleiro do norte          1.0000\n",
      "4106                pacotuba          1.0000\n",
      "4107    presidente juscelino          1.0000\n",
      "4108  desterro de entre rios          1.0000\n",
      "4109                 maquine          1.0000\n"
     ]
    }
   ],
   "source": [
    "# Find the average number of products per order, grouped by customer city.\n",
    "\n",
    "\n",
    "query = '''\n",
    "            with products_per_order as\n",
    "            (select order_id, count(product_id) as no_of_products\n",
    "            from order_items\n",
    "            group by order_id)\n",
    "\n",
    "            select c.customer_city, round(avg(po.no_of_products), 2) as avg_product_num\n",
    "            from products_per_order po\n",
    "            join orders o on o.order_id = po.order_id\n",
    "            join customers c on c.customer_id = o.customer_id\n",
    "            group by c.customer_city\n",
    "        '''\n",
    "\n",
    "cur.execute(query)\n",
    "\n",
    "data = cur.fetchall()\n",
    "\n",
    "column_names = [desc[0] for desc in cur.description]\n",
    "\n",
    "df = pd.DataFrame(data, columns=column_names)\n",
    "\n",
    "print(df.head(5))\n",
    "print(df.tail(5))"
   ]
  },
  {
   "cell_type": "code",
   "execution_count": null,
   "id": "15397c60-197c-4c7e-8bed-9971279bec83",
   "metadata": {},
   "outputs": [],
   "source": []
  },
  {
   "cell_type": "code",
   "execution_count": 94,
   "id": "68227206-d8d4-40b9-b255-323e0f43d31c",
   "metadata": {},
   "outputs": [
    {
     "name": "stdout",
     "output_type": "stream",
     "text": [
      "        product_category  category_revenue  category_revenue_percent\n",
      "3         bed table bath        1712553.67                      8.43\n",
      "11         HEALTH BEAUTY        1657373.12                      8.16\n",
      "5   computer accessories        1585330.45                      7.81\n",
      "1   Furniture Decoration        1430176.39                      7.04\n",
      "15       Watches present        1429216.68                      7.04\n",
      "               product_category  category_revenue  category_revenue_percent\n",
      "69               cds music dvds           1199.43                      0.01\n",
      "70                   La Cuisine           2913.53                      0.01\n",
      "72                     PC Gamer           2174.43                      0.01\n",
      "71  Fashion Children's Clothing            785.67                      0.00\n",
      "73       insurance and services            324.51                      0.00\n"
     ]
    }
   ],
   "source": [
    "# Calculate the percentage of total revenue contributed by each product category.\n",
    "\n",
    "query = '''\n",
    "            with user_payments as\n",
    "            (\n",
    "            select order_id, sum(payment_value) as payment_value\n",
    "            from payments\n",
    "            group by order_id\n",
    "            ),\n",
    "\n",
    "            fetched_category as\n",
    "            (\n",
    "            select p.product_category, round(sum(u.payment_value), 2) as category_revenue\n",
    "            from user_payments u\n",
    "            join order_items oi on oi.order_id = u.order_id\n",
    "            join products p on oi.product_id = p.product_id\n",
    "            group by p.product_category\n",
    "            )\n",
    "\n",
    "            select product_category, category_revenue, round((category_revenue/sum(category_revenue) over())*100, 2) as category_revenue_percent\n",
    "            from fetched_category\n",
    "        '''\n",
    "\n",
    "cur.execute(query)\n",
    "\n",
    "data = cur.fetchall()\n",
    "\n",
    "column_names = column_names = [desc[0] for desc in cur.description]\n",
    "\n",
    "df = pd.DataFrame(data, columns=column_names)\n",
    "\n",
    "df = df.sort_values(by='category_revenue_percent', ascending=False)\n",
    "\n",
    "print(df.head(5))\n",
    "print(df.tail(5))"
   ]
  },
  {
   "cell_type": "code",
   "execution_count": null,
   "id": "ae4bbe63-3622-453e-a331-24a2ddf30d62",
   "metadata": {},
   "outputs": [],
   "source": []
  },
  {
   "cell_type": "code",
   "execution_count": 104,
   "id": "2c68af11-6cf8-4c2e-956b-5ec86414771e",
   "metadata": {},
   "outputs": [
    {
     "name": "stdout",
     "output_type": "stream",
     "text": [
      "The correlation between price and number of times product purchased is :  -0.10631514167157562\n"
     ]
    }
   ],
   "source": [
    "# Identify the correlation between product price and the number of times a product has been purchased.\n",
    "\n",
    "query = '''\n",
    "            select p.product_category, count(oi.product_id) as products_num,\n",
    "            round(avg(oi.price), 2) as avg_price\n",
    "            from products p\n",
    "            join order_items oi on p.product_id = oi.product_id\n",
    "            group by p.product_category\n",
    "        '''\n",
    "\n",
    "cur.execute(query)\n",
    "\n",
    "data = cur.fetchall()\n",
    "\n",
    "column_names = column_names = [desc[0] for desc in cur.description]\n",
    "\n",
    "df = pd.DataFrame(data, columns=column_names)\n",
    "\n",
    "#print(df.head())\n",
    "#print(df.tail())\n",
    "\n",
    "arr1 = df['products_num']\n",
    "arr2 = df['avg_price']\n",
    "a = np.corrcoef([arr1, arr2])\n",
    "print(\"The correlation between price and number of times product purchased is : \", a[0][1])"
   ]
  },
  {
   "cell_type": "code",
   "execution_count": null,
   "id": "cf8effd4-bd54-411e-a376-112241773d31",
   "metadata": {},
   "outputs": [],
   "source": []
  },
  {
   "cell_type": "code",
   "execution_count": 108,
   "id": "d4c008dc-32f3-48e5-98fe-c3e724323c3d",
   "metadata": {},
   "outputs": [
    {
     "name": "stdout",
     "output_type": "stream",
     "text": [
      "                          seller_id    revenue  rnk\n",
      "0  7c67e1448b00f6e969d365cea6b010ab  507166.91    1\n",
      "1  1025f0e2d44d7041d6cf58b6550e0bfa  308222.04    2\n",
      "2  4a3ca9315b744ce9f8e9374361493884  301245.27    3\n",
      "3  1f50f920176fa81dab994f9023523100  290253.42    4\n",
      "4  53243585a1d6dc2643021fd1853d8905  284903.08    5\n",
      "                             seller_id  revenue   rnk\n",
      "3090  ad14615bdd492b01b0d97922e87cb87f    19.21  3076\n",
      "3091  702835e4b785b67a084280efca355756    18.56  3077\n",
      "3092  4965a7002cca77301c82d3f91b82e1a9    16.36  3078\n",
      "3093  77128dec4bec4878c37ab7d6169d6f26    15.22  3079\n",
      "3094  cf6f6bc4df3999b9c6440f124fb2f687    12.22  3080\n"
     ]
    }
   ],
   "source": [
    "# Calculate the total revenue generated by each seller, and rank them by revenue.\n",
    "\n",
    "query = '''\n",
    "            with cte as \n",
    "            (\n",
    "            select oi.seller_id, round(sum(pt.payment_value), 2) as revenue\n",
    "            from order_items oi\n",
    "            join payments pt on oi.order_id = pt.order_id\n",
    "            group by oi.seller_id\n",
    "            )\n",
    "\n",
    "            select *, dense_rank() over(order by revenue desc) as rnk\n",
    "            from cte\n",
    "        '''\n",
    "\n",
    "cur.execute(query)\n",
    "\n",
    "data = cur.fetchall()\n",
    "\n",
    "column_names = [desc[0] for desc in cur.description]\n",
    "\n",
    "df = pd.DataFrame(data, columns=column_names)\n",
    "\n",
    "print(df.head(5))\n",
    "print(df.tail(5))"
   ]
  },
  {
   "cell_type": "code",
   "execution_count": null,
   "id": "c879d29b-67d4-499e-b2d9-617f8dad9b41",
   "metadata": {},
   "outputs": [],
   "source": []
  },
  {
   "cell_type": "code",
   "execution_count": 110,
   "id": "898e815a-cec6-4245-8672-3ca7f2f2a2b6",
   "metadata": {},
   "outputs": [
    {
     "name": "stdout",
     "output_type": "stream",
     "text": [
      "                        customer_id order_purchase_timestamp  payment  \\\n",
      "0  00012a2ce6f8dcda20d059ce98491703      2017-11-14 16:08:26   114.74   \n",
      "1  00012a2ce6f8dcda20d059ce98491703      2017-11-14 16:08:26   114.74   \n",
      "2  000161a058600d5901f007fab4c27140      2017-07-16 09:40:32    67.41   \n",
      "3  000161a058600d5901f007fab4c27140      2017-07-16 09:40:32    67.41   \n",
      "4  0001fd6190edaaf884bcaf3d49edf079      2017-02-28 11:06:43   195.42   \n",
      "\n",
      "      mov_avg  \n",
      "0  114.739998  \n",
      "1  114.739998  \n",
      "2   67.410004  \n",
      "3   67.410004  \n",
      "4  195.419998  \n",
      "                             customer_id order_purchase_timestamp  payment  \\\n",
      "207767  ffff42319e9b2d713724ae527742af25      2018-06-13 16:57:05   214.13   \n",
      "207768  ffffa3172527f765de70084a7e53aae8      2017-09-02 11:53:32    45.50   \n",
      "207769  ffffa3172527f765de70084a7e53aae8      2017-09-02 11:53:32    45.50   \n",
      "207770  ffffe8b65bbe3087b653a978c870db99      2017-09-29 14:07:03    18.37   \n",
      "207771  ffffe8b65bbe3087b653a978c870db99      2017-09-29 14:07:03    18.37   \n",
      "\n",
      "           mov_avg  \n",
      "207767  214.130005  \n",
      "207768   45.500000  \n",
      "207769   45.500000  \n",
      "207770   18.370001  \n",
      "207771   18.370001  \n"
     ]
    }
   ],
   "source": [
    "# Calculate the moving average of order values for each customer over their order history.\n",
    "\n",
    "query = '''\n",
    "            with mvg_avg_data as\n",
    "            (\n",
    "            select o.customer_id, o.order_purchase_timestamp, p.payment_value as payment\n",
    "            from payments p\n",
    "            join orders o on p.order_id = o.order_id\n",
    "            )\n",
    "            \n",
    "            select customer_id, order_purchase_timestamp, payment,\n",
    "            avg(payment) over(partition by customer_id order by order_purchase_timestamp\n",
    "            rows between 2 preceding and current row) as mov_avg\n",
    "            from mvg_avg_data\n",
    "        '''\n",
    "\n",
    "cur.execute(query)\n",
    "\n",
    "data = cur.fetchall()\n",
    "\n",
    "column_names = [desc[0] for desc in cur.description]\n",
    "\n",
    "df = pd.DataFrame(data, columns=column_names)\n",
    "\n",
    "print(df.head(5))\n",
    "print(df.tail(5))"
   ]
  },
  {
   "cell_type": "code",
   "execution_count": null,
   "id": "a5ec6263-5c81-444b-b1c3-c40da1601f5d",
   "metadata": {},
   "outputs": [],
   "source": []
  },
  {
   "cell_type": "code",
   "execution_count": 111,
   "id": "e72d1cf3-6eb3-4be3-8fc5-3ac6f2721d6e",
   "metadata": {},
   "outputs": [
    {
     "name": "stdout",
     "output_type": "stream",
     "text": [
      "   years  months    payment  cumulative_sales\n",
      "0   2016       9     504.48            504.48\n",
      "1   2016      10  118180.96         118685.44\n",
      "2   2016      12      39.24         118724.68\n",
      "3   2017       1  276976.08         395700.76\n",
      "4   2017       2  583816.02         979516.78\n",
      "    years  months     payment  cumulative_sales\n",
      "20   2018       6  2047761.00       27829753.68\n",
      "21   2018       7  2133081.50       29962835.18\n",
      "22   2018       8  2044850.64       32007685.82\n",
      "23   2018       9     8879.08       32016564.90\n",
      "24   2018      10     1179.34       32017744.24\n"
     ]
    }
   ],
   "source": [
    "# Calculate the cumulative sales per month for each year.\n",
    "\n",
    "query = '''\n",
    "            with cumulative_sales as\n",
    "            (\n",
    "            select year(o.order_purchase_timestamp) as years, month(o.order_purchase_timestamp) as months,\n",
    "            round(sum(pt.payment_value), 2) as payment\n",
    "            from orders o\n",
    "            join payments pt on o.order_id = pt.order_id\n",
    "            group by years, months\n",
    "            order by years, months\n",
    "            )\n",
    "            \n",
    "            select years, months, payment, sum(payment) over(order by years, months) as cumulative_sales\n",
    "            from cumulative_sales\n",
    "        '''\n",
    "\n",
    "cur.execute(query)\n",
    "\n",
    "data = cur.fetchall()\n",
    "\n",
    "column_names = [desc[0] for desc in cur.description]\n",
    "\n",
    "df = pd.DataFrame(data, columns=column_names)\n",
    "\n",
    "print(df.head(5))\n",
    "print(df.tail(5))"
   ]
  },
  {
   "cell_type": "code",
   "execution_count": null,
   "id": "af8e3820-e552-44ec-b4ce-ad0cd011109c",
   "metadata": {},
   "outputs": [],
   "source": []
  },
  {
   "cell_type": "code",
   "execution_count": 115,
   "id": "03f7644a-21ac-4599-ae95-757b4d4ecacd",
   "metadata": {},
   "outputs": [
    {
     "name": "stdout",
     "output_type": "stream",
     "text": [
      "   years  YoY_growth\n",
      "0   2016         NaN\n",
      "1   2017     12112.7\n",
      "2   2018        20.0\n",
      "   years  YoY_growth\n",
      "0   2016         NaN\n",
      "1   2017     12112.7\n",
      "2   2018        20.0\n"
     ]
    }
   ],
   "source": [
    "# Calculate the year-over-year growth rate of total sales.\n",
    "\n",
    "query = '''\n",
    "            with growth_rate as\n",
    "            (\n",
    "            select year(o.order_purchase_timestamp) as years,\n",
    "            round(sum(pt.payment_value), 2) as payment\n",
    "            from orders o\n",
    "            join payments pt on o.order_id = pt.order_id\n",
    "            group by years\n",
    "            order by years\n",
    "            )\n",
    "            \n",
    "            select years, round((payment - lag(payment, 1) over(order by years))/\n",
    "            lag(payment, 1) over(order by years)*100, 2) as YoY_growth\n",
    "            from growth_rate\n",
    "        '''\n",
    "\n",
    "cur.execute(query)\n",
    "\n",
    "data = cur.fetchall()\n",
    "\n",
    "column_names = [desc[0] for desc in cur.description]\n",
    "\n",
    "df = pd.DataFrame(data, columns=column_names)\n",
    "\n",
    "print(df.head(5))\n",
    "print(df.tail(5))"
   ]
  },
  {
   "cell_type": "code",
   "execution_count": null,
   "id": "9bcb083a-81ce-4171-8c0b-6d2eb0e1e447",
   "metadata": {},
   "outputs": [],
   "source": []
  },
  {
   "cell_type": "code",
   "execution_count": 117,
   "id": "ea192a00-edf4-4718-a5bd-a136c2654a00",
   "metadata": {},
   "outputs": [
    {
     "name": "stdout",
     "output_type": "stream",
     "text": [
      "   years                       customer_id   payment  d_rank\n",
      "0   2016  a9dc96b027d1252bbac0a9b72d837fc6   2847.10       1\n",
      "1   2016  1d34ed25963d5aae4cf3d7f3a4cda173   2801.48       2\n",
      "2   2016  4a06381959b6670756de02e07b83815f   2455.56       3\n",
      "3   2017  1617b1357756262bfa56ab541c47bc16  27328.16       1\n",
      "4   2017  c6e2731c5b391845f6800c97401a43a9  13858.62       2\n",
      "   years                       customer_id   payment  d_rank\n",
      "4   2017  c6e2731c5b391845f6800c97401a43a9  13858.62       2\n",
      "5   2017  3fd6777bbce08a352fddd04e4a7cc8f6  13453.32       3\n",
      "6   2018  ec5b2ba62e574342386871631fafd3fc  14549.76       1\n",
      "7   2018  f48d464a0baaea338cb25f816991ab1f  13844.42       2\n",
      "8   2018  e0a2412720e9ea4f26c1ac985f6a7358   9618.88       3\n"
     ]
    }
   ],
   "source": [
    "# Identify the top 3 customers who spent the most money in each year.\n",
    "\n",
    "query = '''\n",
    "            with spent_more_money as\n",
    "            (\n",
    "            select year(o.order_purchase_timestamp) as years, o.customer_id,\n",
    "            round(sum(pt.payment_value), 2) as payment, dense_rank() over(partition by year(o.order_purchase_timestamp) order by sum(pt.payment_value) desc) as d_rank \n",
    "            from orders o\n",
    "            join payments pt on o.order_id = pt.order_id\n",
    "            group by years, o.customer_id\n",
    "            )\n",
    "            \n",
    "            select years, customer_id, payment, d_rank\n",
    "            from spent_more_money\n",
    "            where d_rank <=3\n",
    "        '''\n",
    "\n",
    "cur.execute(query)\n",
    "\n",
    "data = cur.fetchall()\n",
    "\n",
    "column_names = [desc[0] for desc in cur.description]\n",
    "\n",
    "df = pd.DataFrame(data, columns=column_names)\n",
    "\n",
    "print(df.head(5))\n",
    "print(df.tail(5))"
   ]
  },
  {
   "cell_type": "code",
   "execution_count": null,
   "id": "d134f147-097a-4830-9c61-d0211e36aad8",
   "metadata": {},
   "outputs": [],
   "source": []
  },
  {
   "cell_type": "code",
   "execution_count": null,
   "id": "51960a67-fb03-4ff1-ad71-76b9edd26c38",
   "metadata": {},
   "outputs": [],
   "source": []
  }
 ],
 "metadata": {
  "kernelspec": {
   "display_name": "Python 3 (ipykernel)",
   "language": "python",
   "name": "python3"
  },
  "language_info": {
   "codemirror_mode": {
    "name": "ipython",
    "version": 3
   },
   "file_extension": ".py",
   "mimetype": "text/x-python",
   "name": "python",
   "nbconvert_exporter": "python",
   "pygments_lexer": "ipython3",
   "version": "3.12.6"
  }
 },
 "nbformat": 4,
 "nbformat_minor": 5
}
